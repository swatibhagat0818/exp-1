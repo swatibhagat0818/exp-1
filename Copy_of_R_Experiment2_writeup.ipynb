{
  "nbformat": 4,
  "nbformat_minor": 0,
  "metadata": {
    "colab": {
      "name": "Copy of R_Experiment2_writeup.ipynb",
      "provenance": [],
      "collapsed_sections": [],
      "include_colab_link": true
    },
    "kernelspec": {
      "name": "ir",
      "display_name": "R"
    }
  },
  "cells": [
    {
      "cell_type": "markdown",
      "metadata": {
        "id": "view-in-github",
        "colab_type": "text"
      },
      "source": [
        "<a href=\"https://colab.research.google.com/github/swatibhagat0818/exp-1/blob/main/Copy_of_R_Experiment2_writeup.ipynb\" target=\"_parent\"><img src=\"https://colab.research.google.com/assets/colab-badge.svg\" alt=\"Open In Colab\"/></a>"
      ]
    },
    {
      "cell_type": "markdown",
      "metadata": {
        "id": "ID8ytqkhyQUI"
      },
      "source": [
        "\n",
        "**Vectors R Programming**\n",
        "\n",
        "The simplest and most common data structure in R is the vector. Vectors come in two different flavors: atomic vectors and lists. An atomic vector contains exactly one data type, whereas a list may contain multiple data types.\n",
        "\n",
        "Atomic vectors include logical, character, integer, and complex. Logical vectors can contain the values TRUE, FALSE, and NA (for 'not available').These values are generated as the result of logical 'conditions'.\n",
        "\n",
        "Complet following couple of code cell to genearate a logical vector in variable logic_vect\n"
      ]
    },
    {
      "cell_type": "code",
      "metadata": {
        "id": "vmxkWCwVaTsu",
        "colab": {
          "base_uri": "https://localhost:8080/",
          "height": 35
        },
        "outputId": "1a3654fc-f933-4f72-d760-c7edda2e35b2"
      },
      "source": [
        "# Create a vector num_vect with values -100, 0.55, 45, 5466\n",
        "num_vect<-c(-100,0.55,45,5466)\n",
        "num_vect"
      ],
      "execution_count": 3,
      "outputs": [
        {
          "output_type": "display_data",
          "data": {
            "text/plain": [
              "[1] -100.00    0.55   45.00 5466.00"
            ],
            "text/latex": "\\begin{enumerate*}\n\\item -100\n\\item 0.55\n\\item 45\n\\item 5466\n\\end{enumerate*}\n",
            "text/markdown": "1. -100\n2. 0.55\n3. 45\n4. 5466\n\n\n",
            "text/html": [
              "<style>\n",
              ".list-inline {list-style: none; margin:0; padding: 0}\n",
              ".list-inline>li {display: inline-block}\n",
              ".list-inline>li:not(:last-child)::after {content: \"\\00b7\"; padding: 0 .5ex}\n",
              "</style>\n",
              "<ol class=list-inline><li>-100</li><li>0.55</li><li>45</li><li>5466</li></ol>\n"
            ]
          },
          "metadata": {
            "tags": []
          }
        }
      ]
    },
    {
      "cell_type": "code",
      "metadata": {
        "id": "eB193NZhaTxX"
      },
      "source": [
        "#Now, create a variable called logic_vect that gets the result of num_vect <= 0.55, which is read as 'num_vect is less than 0.55'.\n",
        "logic_vect <- num_vect <= 0.55"
      ],
      "execution_count": 43,
      "outputs": []
    },
    {
      "cell_type": "markdown",
      "metadata": {
        "id": "Wjk_ipkRbIEQ"
      },
      "source": [
        "If you print logic_vect. you will see that is is a logical vector with 4 values. Print logic_vect in cell below to verify it "
      ]
    },
    {
      "cell_type": "code",
      "metadata": {
        "id": "daPof3CfbYJl"
      },
      "source": [
        "#print logic_vect"
      ],
      "execution_count": 44,
      "outputs": []
    },
    {
      "cell_type": "markdown",
      "metadata": {
        "id": "iSlhhQY3JrO9"
      },
      "source": [
        "1.TRUE \r\n",
        "2.TRUE \r\n",
        "3.FALSE \r\n",
        "4.FALSE"
      ]
    },
    {
      "cell_type": "code",
      "metadata": {
        "id": "ZJRGCFsRbluA"
      },
      "source": [
        "#Type num_vect >= 6 and note the output"
      ],
      "execution_count": 45,
      "outputs": []
    },
    {
      "cell_type": "markdown",
      "metadata": {
        "id": "1VX_CHupJ1aq"
      },
      "source": [
        "num_vect >= 6  \r\n",
        "1.FALSE \r\n",
        "2.FALSE \r\n",
        "3.TRUE \r\n",
        "4.TRUE"
      ]
    },
    {
      "cell_type": "markdown",
      "metadata": {
        "id": "ykWXOe7kbbCH"
      },
      "source": [
        "Character vectors\n",
        "\n",
        "Character vectors are also very common in R. Double quotes are used to distinguish character objects."
      ]
    },
    {
      "cell_type": "code",
      "metadata": {
        "id": "Y5By5YrKcKLV"
      },
      "source": [
        "# Create a character vector that contains the following words: \"My\", \"name\", \"is\". \n",
        "#Remember to enclose each word in its own set of double quotes, \n",
        "#so that R knows they are character strings. Store the vector in a variable called char_vect.\n"
      ],
      "execution_count": 46,
      "outputs": []
    },
    {
      "cell_type": "markdown",
      "metadata": {
        "id": "ItNYq-DoKbUv"
      },
      "source": [
        "char_vect <- c (\"My\", \"name\", \"is\")"
      ]
    },
    {
      "cell_type": "code",
      "metadata": {
        "id": "fCs9xH65dXqF"
      },
      "source": [
        "# print the char_vect"
      ],
      "execution_count": 47,
      "outputs": []
    },
    {
      "cell_type": "markdown",
      "metadata": {
        "id": "cUbDP3trKzCg"
      },
      "source": [
        "1.'My'\r\n",
        "2.'name'\r\n",
        "3'is'"
      ]
    },
    {
      "cell_type": "code",
      "metadata": {
        "id": "wqFk1eWDdaej"
      },
      "source": [
        "#use paste(char_vect, collapse=\" \")"
      ],
      "execution_count": 77,
      "outputs": []
    },
    {
      "cell_type": "markdown",
      "metadata": {
        "id": "lnwTFzaqLDiK"
      },
      "source": [
        "paste(char_vect, collapse=\" \")"
      ]
    },
    {
      "cell_type": "markdown",
      "metadata": {
        "id": "U6zErBTNdkjS"
      },
      "source": [
        "Explain What difference you see in above two code blocks\n",
        "\n",
        " My explaination\n",
        " ss\n",
        " \n",
        " fsdfsd\n",
        " fsfd\n",
        " fsdf"
      ]
    },
    {
      "cell_type": "markdown",
      "metadata": {
        "id": "U08THn2CLOpx"
      },
      "source": [
        "'My name is'\r\n",
        "In the first block, char_vect is a character vector with lenght 3. In the second block, elements of the char_vect are joined together in one continuous character string using paste() function. now in the second box char_vect is a character vector with length 1."
      ]
    },
    {
      "cell_type": "code",
      "metadata": {
        "id": "bb8VxwW6eq4I"
      },
      "source": [
        "# add your name as an element to char_vect and paste complete sentence saying \"My name is <your name>\"\n"
      ],
      "execution_count": 68,
      "outputs": []
    },
    {
      "cell_type": "code",
      "metadata": {
        "id": "UNT3M5cSSLKZ"
      },
      "source": [
        "char_vect <- c(char_vect,\"Swita\")\r\n",
        "paste(char_vect, collapse = \" \")"
      ],
      "execution_count": null,
      "outputs": []
    },
    {
      "cell_type": "markdown",
      "metadata": {
        "id": "A2Hr_tgfSPK3"
      },
      "source": [
        "'My name is Swita'"
      ]
    },
    {
      "cell_type": "code",
      "metadata": {
        "id": "2On4I2KFffCo",
        "colab": {
          "base_uri": "https://localhost:8080/",
          "height": 35
        },
        "outputId": "444f8b73-f89c-46f3-9a24-b3213804f825"
      },
      "source": [
        "#Execute this code block\n",
        "paste(\"Hello\",\"World!\",collapse=\" \")"
      ],
      "execution_count": 40,
      "outputs": [
        {
          "output_type": "display_data",
          "data": {
            "text/plain": [
              "[1] \"Hello World!\""
            ],
            "text/latex": "'Hello World!'",
            "text/markdown": "'Hello World!'",
            "text/html": [
              "'Hello World!'"
            ]
          },
          "metadata": {
            "tags": []
          }
        }
      ]
    },
    {
      "cell_type": "markdown",
      "metadata": {
        "id": "6HvlEcHhOweC"
      },
      "source": [
        "EXPLANATION ; collapse argument with function paste explains that we can join elements of the character vector seperated by single spaces."
      ]
    },
    {
      "cell_type": "markdown",
      "metadata": {
        "id": "Ix0RGNhYfk5M"
      },
      "source": [
        "Explain output of code block above."
      ]
    },
    {
      "cell_type": "code",
      "metadata": {
        "id": "UG8NGPx4fq01",
        "colab": {
          "base_uri": "https://localhost:8080/",
          "height": 35
        },
        "outputId": "f2730df8-ecc2-45db-ad04-593c037cddf4"
      },
      "source": [
        "#Execute this \n",
        "paste(1:3, c(\"X\", \"Y\", \"Z\"), sep = \":\")"
      ],
      "execution_count": 41,
      "outputs": [
        {
          "output_type": "display_data",
          "data": {
            "text/plain": [
              "[1] \"1:X\" \"2:Y\" \"3:Z\""
            ],
            "text/latex": "\\begin{enumerate*}\n\\item '1:X'\n\\item '2:Y'\n\\item '3:Z'\n\\end{enumerate*}\n",
            "text/markdown": "1. '1:X'\n2. '2:Y'\n3. '3:Z'\n\n\n",
            "text/html": [
              "<style>\n",
              ".list-inline {list-style: none; margin:0; padding: 0}\n",
              ".list-inline>li {display: inline-block}\n",
              ".list-inline>li:not(:last-child)::after {content: \"\\00b7\"; padding: 0 .5ex}\n",
              "</style>\n",
              "<ol class=list-inline><li>'1:X'</li><li>'2:Y'</li><li>'3:Z'</li></ol>\n"
            ]
          },
          "metadata": {
            "tags": []
          }
        }
      ]
    },
    {
      "cell_type": "markdown",
      "metadata": {
        "id": "kENXToioPKj0"
      },
      "source": [
        "2 vectors, both of size 3. First has elements (1,2,3) and second (\"X\",\"Y\",\"Z\").When paste() is used it prints elements of both with its iteration. sep=\":\" seperates both values with\":\"."
      ]
    },
    {
      "cell_type": "markdown",
      "metadata": {
        "id": "WZburobtgHPL"
      },
      "source": [
        "Explain output of above code block"
      ]
    },
    {
      "cell_type": "code",
      "metadata": {
        "id": "dfigEt5CgidD",
        "colab": {
          "base_uri": "https://localhost:8080/",
          "height": 35
        },
        "outputId": "2fb2382e-665f-4039-9197-cadaf4c1d8ea"
      },
      "source": [
        "#Executes this LETTERS is \n",
        "paste(LETTERS, 1:10, sep = \"-\")"
      ],
      "execution_count": 42,
      "outputs": [
        {
          "output_type": "display_data",
          "data": {
            "text/plain": [
              " [1] \"A-1\"  \"B-2\"  \"C-3\"  \"D-4\"  \"E-5\"  \"F-6\"  \"G-7\"  \"H-8\"  \"I-9\"  \"J-10\"\n",
              "[11] \"K-1\"  \"L-2\"  \"M-3\"  \"N-4\"  \"O-5\"  \"P-6\"  \"Q-7\"  \"R-8\"  \"S-9\"  \"T-10\"\n",
              "[21] \"U-1\"  \"V-2\"  \"W-3\"  \"X-4\"  \"Y-5\"  \"Z-6\" "
            ],
            "text/latex": "\\begin{enumerate*}\n\\item 'A-1'\n\\item 'B-2'\n\\item 'C-3'\n\\item 'D-4'\n\\item 'E-5'\n\\item 'F-6'\n\\item 'G-7'\n\\item 'H-8'\n\\item 'I-9'\n\\item 'J-10'\n\\item 'K-1'\n\\item 'L-2'\n\\item 'M-3'\n\\item 'N-4'\n\\item 'O-5'\n\\item 'P-6'\n\\item 'Q-7'\n\\item 'R-8'\n\\item 'S-9'\n\\item 'T-10'\n\\item 'U-1'\n\\item 'V-2'\n\\item 'W-3'\n\\item 'X-4'\n\\item 'Y-5'\n\\item 'Z-6'\n\\end{enumerate*}\n",
            "text/markdown": "1. 'A-1'\n2. 'B-2'\n3. 'C-3'\n4. 'D-4'\n5. 'E-5'\n6. 'F-6'\n7. 'G-7'\n8. 'H-8'\n9. 'I-9'\n10. 'J-10'\n11. 'K-1'\n12. 'L-2'\n13. 'M-3'\n14. 'N-4'\n15. 'O-5'\n16. 'P-6'\n17. 'Q-7'\n18. 'R-8'\n19. 'S-9'\n20. 'T-10'\n21. 'U-1'\n22. 'V-2'\n23. 'W-3'\n24. 'X-4'\n25. 'Y-5'\n26. 'Z-6'\n\n\n",
            "text/html": [
              "<style>\n",
              ".list-inline {list-style: none; margin:0; padding: 0}\n",
              ".list-inline>li {display: inline-block}\n",
              ".list-inline>li:not(:last-child)::after {content: \"\\00b7\"; padding: 0 .5ex}\n",
              "</style>\n",
              "<ol class=list-inline><li>'A-1'</li><li>'B-2'</li><li>'C-3'</li><li>'D-4'</li><li>'E-5'</li><li>'F-6'</li><li>'G-7'</li><li>'H-8'</li><li>'I-9'</li><li>'J-10'</li><li>'K-1'</li><li>'L-2'</li><li>'M-3'</li><li>'N-4'</li><li>'O-5'</li><li>'P-6'</li><li>'Q-7'</li><li>'R-8'</li><li>'S-9'</li><li>'T-10'</li><li>'U-1'</li><li>'V-2'</li><li>'W-3'</li><li>'X-4'</li><li>'Y-5'</li><li>'Z-6'</li></ol>\n"
            ]
          },
          "metadata": {
            "tags": []
          }
        }
      ]
    },
    {
      "cell_type": "markdown",
      "metadata": {
        "id": "zi6nXmiZp1Li"
      },
      "source": [
        "Explain output of above code block"
      ]
    },
    {
      "cell_type": "markdown",
      "metadata": {
        "id": "9EYEVV3FPzwL"
      },
      "source": [
        "Here, character vector LETTERS is longer than numeric vector 1:10. so R simply repeats the 1:10 until it matches length of the character vector."
      ]
    },
    {
      "cell_type": "markdown",
      "metadata": {
        "id": "oaWD-k-4qNOV"
      },
      "source": [
        "**Write R code to Solve Following**\n",
        "1.   To begin with create a vecor **a** of 20 random values from Std Normal Variable.\n",
        "2.   Creat another vector **b** of 20 NA values. Also create vector x\n",
        "3.   Sample 20 values from above two vectors. \n",
        "4.   Subset  10th to 15th element from x to generate sample y\n",
        "5.   Count NAs in vector x and y         "
      ]
    },
    {
      "cell_type": "markdown",
      "metadata": {
        "id": "i4j7YJyYRiS1"
      },
      "source": [
        ""
      ]
    },
    {
      "cell_type": "code",
      "metadata": {
        "colab": {
          "base_uri": "https://localhost:8080/",
          "height": 69
        },
        "id": "inf_sDBmSuSL",
        "outputId": "8e4a7f6c-3e6f-4823-bc1c-cd661752aeba"
      },
      "source": [
        "a <- rnorm(20)\r\n",
        "a"
      ],
      "execution_count": 71,
      "outputs": [
        {
          "output_type": "display_data",
          "data": {
            "text/plain": [
              " [1]  1.05104814 -1.05406447  1.77098714 -0.47153203  1.57544572 -1.05939971\n",
              " [7]  1.54711369  0.77565573 -0.55025892 -0.09863692 -0.70982635 -0.26723104\n",
              "[13]  0.79809313  0.96333378  1.54014819 -0.41593357  2.08388731  0.67134396\n",
              "[19] -2.51963405 -0.13404446"
            ],
            "text/latex": "\\begin{enumerate*}\n\\item 1.05104814340141\n\\item -1.05406446711898\n\\item 1.77098714313884\n\\item -0.471532031734574\n\\item 1.5754457216811\n\\item -1.05939971066168\n\\item 1.54711369466903\n\\item 0.775655731113104\n\\item -0.550258924051989\n\\item -0.0986369233599055\n\\item -0.709826347223116\n\\item -0.267231042167028\n\\item 0.798093129695773\n\\item 0.963333781578019\n\\item 1.54014819481484\n\\item -0.415933565916395\n\\item 2.08388730711513\n\\item 0.671343960038069\n\\item -2.51963405371674\n\\item -0.134044461160761\n\\end{enumerate*}\n",
            "text/markdown": "1. 1.05104814340141\n2. -1.05406446711898\n3. 1.77098714313884\n4. -0.471532031734574\n5. 1.5754457216811\n6. -1.05939971066168\n7. 1.54711369466903\n8. 0.775655731113104\n9. -0.550258924051989\n10. -0.0986369233599055\n11. -0.709826347223116\n12. -0.267231042167028\n13. 0.798093129695773\n14. 0.963333781578019\n15. 1.54014819481484\n16. -0.415933565916395\n17. 2.08388730711513\n18. 0.671343960038069\n19. -2.51963405371674\n20. -0.134044461160761\n\n\n",
            "text/html": [
              "<style>\n",
              ".list-inline {list-style: none; margin:0; padding: 0}\n",
              ".list-inline>li {display: inline-block}\n",
              ".list-inline>li:not(:last-child)::after {content: \"\\00b7\"; padding: 0 .5ex}\n",
              "</style>\n",
              "<ol class=list-inline><li>1.05104814340141</li><li>-1.05406446711898</li><li>1.77098714313884</li><li>-0.471532031734574</li><li>1.5754457216811</li><li>-1.05939971066168</li><li>1.54711369466903</li><li>0.775655731113104</li><li>-0.550258924051989</li><li>-0.0986369233599055</li><li>-0.709826347223116</li><li>-0.267231042167028</li><li>0.798093129695773</li><li>0.963333781578019</li><li>1.54014819481484</li><li>-0.415933565916395</li><li>2.08388730711513</li><li>0.671343960038069</li><li>-2.51963405371674</li><li>-0.134044461160761</li></ol>\n"
            ]
          },
          "metadata": {
            "tags": []
          }
        }
      ]
    },
    {
      "cell_type": "markdown",
      "metadata": {
        "id": "RtlVKxrhS9vC"
      },
      "source": [
        "1.create another vector b of 20 NA values. also create vector x"
      ]
    },
    {
      "cell_type": "code",
      "metadata": {
        "colab": {
          "base_uri": "https://localhost:8080/",
          "height": 35
        },
        "id": "I7c1sfr5TLb9",
        "outputId": "6cf3144d-83df-4eae-e083-44ca56446f13"
      },
      "source": [
        "b <- rep(NA, 20)\r\n",
        "b"
      ],
      "execution_count": 72,
      "outputs": [
        {
          "output_type": "display_data",
          "data": {
            "text/plain": [
              " [1] NA NA NA NA NA NA NA NA NA NA NA NA NA NA NA NA NA NA NA NA"
            ],
            "text/latex": "\\begin{enumerate*}\n\\item <NA>\n\\item <NA>\n\\item <NA>\n\\item <NA>\n\\item <NA>\n\\item <NA>\n\\item <NA>\n\\item <NA>\n\\item <NA>\n\\item <NA>\n\\item <NA>\n\\item <NA>\n\\item <NA>\n\\item <NA>\n\\item <NA>\n\\item <NA>\n\\item <NA>\n\\item <NA>\n\\item <NA>\n\\item <NA>\n\\end{enumerate*}\n",
            "text/markdown": "1. &lt;NA&gt;\n2. &lt;NA&gt;\n3. &lt;NA&gt;\n4. &lt;NA&gt;\n5. &lt;NA&gt;\n6. &lt;NA&gt;\n7. &lt;NA&gt;\n8. &lt;NA&gt;\n9. &lt;NA&gt;\n10. &lt;NA&gt;\n11. &lt;NA&gt;\n12. &lt;NA&gt;\n13. &lt;NA&gt;\n14. &lt;NA&gt;\n15. &lt;NA&gt;\n16. &lt;NA&gt;\n17. &lt;NA&gt;\n18. &lt;NA&gt;\n19. &lt;NA&gt;\n20. &lt;NA&gt;\n\n\n",
            "text/html": [
              "<style>\n",
              ".list-inline {list-style: none; margin:0; padding: 0}\n",
              ".list-inline>li {display: inline-block}\n",
              ".list-inline>li:not(:last-child)::after {content: \"\\00b7\"; padding: 0 .5ex}\n",
              "</style>\n",
              "<ol class=list-inline><li>&lt;NA&gt;</li><li>&lt;NA&gt;</li><li>&lt;NA&gt;</li><li>&lt;NA&gt;</li><li>&lt;NA&gt;</li><li>&lt;NA&gt;</li><li>&lt;NA&gt;</li><li>&lt;NA&gt;</li><li>&lt;NA&gt;</li><li>&lt;NA&gt;</li><li>&lt;NA&gt;</li><li>&lt;NA&gt;</li><li>&lt;NA&gt;</li><li>&lt;NA&gt;</li><li>&lt;NA&gt;</li><li>&lt;NA&gt;</li><li>&lt;NA&gt;</li><li>&lt;NA&gt;</li><li>&lt;NA&gt;</li><li>&lt;NA&gt;</li></ol>\n"
            ]
          },
          "metadata": {
            "tags": []
          }
        }
      ]
    },
    {
      "cell_type": "markdown",
      "metadata": {
        "id": "MiiiqjC8Tcs3"
      },
      "source": [
        "1.sample 20 values from above two vectors."
      ]
    },
    {
      "cell_type": "code",
      "metadata": {
        "colab": {
          "base_uri": "https://localhost:8080/",
          "height": 52
        },
        "id": "7PlHKbt2TiwL",
        "outputId": "35c67258-84ab-47ea-f77a-1cad057c56de"
      },
      "source": [
        "x <- c(a,b)\r\n",
        "x <- sample(x, 20, replace = FALSE)\r\n",
        "x"
      ],
      "execution_count": 73,
      "outputs": [
        {
          "output_type": "display_data",
          "data": {
            "text/plain": [
              " [1] -0.09863692          NA          NA -0.47153203          NA          NA\n",
              " [7]  1.54014819          NA  1.77098714          NA  1.54711369  0.79809313\n",
              "[13]          NA          NA -2.51963405 -0.26723104          NA -1.05406447\n",
              "[19]  0.77565573          NA"
            ],
            "text/latex": "\\begin{enumerate*}\n\\item -0.0986369233599055\n\\item <NA>\n\\item <NA>\n\\item -0.471532031734574\n\\item <NA>\n\\item <NA>\n\\item 1.54014819481484\n\\item <NA>\n\\item 1.77098714313884\n\\item <NA>\n\\item 1.54711369466903\n\\item 0.798093129695773\n\\item <NA>\n\\item <NA>\n\\item -2.51963405371674\n\\item -0.267231042167028\n\\item <NA>\n\\item -1.05406446711898\n\\item 0.775655731113104\n\\item <NA>\n\\end{enumerate*}\n",
            "text/markdown": "1. -0.0986369233599055\n2. &lt;NA&gt;\n3. &lt;NA&gt;\n4. -0.471532031734574\n5. &lt;NA&gt;\n6. &lt;NA&gt;\n7. 1.54014819481484\n8. &lt;NA&gt;\n9. 1.77098714313884\n10. &lt;NA&gt;\n11. 1.54711369466903\n12. 0.798093129695773\n13. &lt;NA&gt;\n14. &lt;NA&gt;\n15. -2.51963405371674\n16. -0.267231042167028\n17. &lt;NA&gt;\n18. -1.05406446711898\n19. 0.775655731113104\n20. &lt;NA&gt;\n\n\n",
            "text/html": [
              "<style>\n",
              ".list-inline {list-style: none; margin:0; padding: 0}\n",
              ".list-inline>li {display: inline-block}\n",
              ".list-inline>li:not(:last-child)::after {content: \"\\00b7\"; padding: 0 .5ex}\n",
              "</style>\n",
              "<ol class=list-inline><li>-0.0986369233599055</li><li>&lt;NA&gt;</li><li>&lt;NA&gt;</li><li>-0.471532031734574</li><li>&lt;NA&gt;</li><li>&lt;NA&gt;</li><li>1.54014819481484</li><li>&lt;NA&gt;</li><li>1.77098714313884</li><li>&lt;NA&gt;</li><li>1.54711369466903</li><li>0.798093129695773</li><li>&lt;NA&gt;</li><li>&lt;NA&gt;</li><li>-2.51963405371674</li><li>-0.267231042167028</li><li>&lt;NA&gt;</li><li>-1.05406446711898</li><li>0.775655731113104</li><li>&lt;NA&gt;</li></ol>\n"
            ]
          },
          "metadata": {
            "tags": []
          }
        }
      ]
    },
    {
      "cell_type": "markdown",
      "metadata": {
        "id": "ObpPt-szT5F_"
      },
      "source": [
        "1.subset from 10th to 15th element from x to generates sample y"
      ]
    },
    {
      "cell_type": "code",
      "metadata": {
        "colab": {
          "base_uri": "https://localhost:8080/",
          "height": 35
        },
        "id": "tcw1TIT9UCJF",
        "outputId": "1d861524-8999-4885-dcc3-a122a87eab55"
      },
      "source": [
        "y <- x[10:15]\r\n",
        "y"
      ],
      "execution_count": 74,
      "outputs": [
        {
          "output_type": "display_data",
          "data": {
            "text/plain": [
              "[1]         NA  1.5471137  0.7980931         NA         NA -2.5196341"
            ],
            "text/latex": "\\begin{enumerate*}\n\\item <NA>\n\\item 1.54711369466903\n\\item 0.798093129695773\n\\item <NA>\n\\item <NA>\n\\item -2.51963405371674\n\\end{enumerate*}\n",
            "text/markdown": "1. &lt;NA&gt;\n2. 1.54711369466903\n3. 0.798093129695773\n4. &lt;NA&gt;\n5. &lt;NA&gt;\n6. -2.51963405371674\n\n\n",
            "text/html": [
              "<style>\n",
              ".list-inline {list-style: none; margin:0; padding: 0}\n",
              ".list-inline>li {display: inline-block}\n",
              ".list-inline>li:not(:last-child)::after {content: \"\\00b7\"; padding: 0 .5ex}\n",
              "</style>\n",
              "<ol class=list-inline><li>&lt;NA&gt;</li><li>1.54711369466903</li><li>0.798093129695773</li><li>&lt;NA&gt;</li><li>&lt;NA&gt;</li><li>-2.51963405371674</li></ol>\n"
            ]
          },
          "metadata": {
            "tags": []
          }
        }
      ]
    },
    {
      "cell_type": "markdown",
      "metadata": {
        "id": "pZ5eIM16ULIb"
      },
      "source": [
        "1.count NAs in vector x and y"
      ]
    },
    {
      "cell_type": "code",
      "metadata": {
        "colab": {
          "base_uri": "https://localhost:8080/",
          "height": 52
        },
        "id": "ZKk6hxlyURAt",
        "outputId": "affd9f93-a513-4193-ab6f-381bd8e0e9bb"
      },
      "source": [
        "sum(is.na(x))\r\n",
        "sum(is.na(y))"
      ],
      "execution_count": 75,
      "outputs": [
        {
          "output_type": "display_data",
          "data": {
            "text/plain": [
              "[1] 10"
            ],
            "text/latex": "10",
            "text/markdown": "10",
            "text/html": [
              "10"
            ]
          },
          "metadata": {
            "tags": []
          }
        },
        {
          "output_type": "display_data",
          "data": {
            "text/plain": [
              "[1] 3"
            ],
            "text/latex": "3",
            "text/markdown": "3",
            "text/html": [
              "3"
            ]
          },
          "metadata": {
            "tags": []
          }
        }
      ]
    }
  ]
}